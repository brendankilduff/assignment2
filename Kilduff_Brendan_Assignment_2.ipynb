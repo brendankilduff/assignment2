{
  "nbformat": 4,
  "nbformat_minor": 0,
  "metadata": {
    "colab": {
      "provenance": [],
      "authorship_tag": "ABX9TyMCOz8nYsxAaB3986Hj/uuv",
      "include_colab_link": true
    },
    "kernelspec": {
      "name": "python3",
      "display_name": "Python 3"
    },
    "language_info": {
      "name": "python"
    }
  },
  "cells": [
    {
      "cell_type": "markdown",
      "metadata": {
        "id": "view-in-github",
        "colab_type": "text"
      },
      "source": [
        "<a href=\"https://colab.research.google.com/github/brendankilduff/assignment2/blob/main/Kilduff_Brendan_Assignment_2.ipynb\" target=\"_parent\"><img src=\"https://colab.research.google.com/assets/colab-badge.svg\" alt=\"Open In Colab\"/></a>"
      ]
    },
    {
      "cell_type": "code",
      "execution_count": 7,
      "metadata": {
        "colab": {
          "base_uri": "https://localhost:8080/"
        },
        "id": "LOW_yxgnGtDL",
        "outputId": "073436aa-0775-4d50-c598-761fc614d55c"
      },
      "outputs": [
        {
          "output_type": "stream",
          "name": "stdout",
          "text": [
            "(30478, 13) \n",
            "\n",
            "Host Id                         int64\n",
            "Host Since                     object\n",
            "Name                           object\n",
            "Neighbourhood                  object\n",
            "Property Type                  object\n",
            "Review Scores Rating (bin)    float64\n",
            "Room Type                      object\n",
            "Zipcode                       float64\n",
            "Beds                          float64\n",
            "Number of Records               int64\n",
            "Number Of Reviews               int64\n",
            "Price                          object\n",
            "Review Scores Rating          float64\n",
            "dtype: object \n",
            "\n",
            "Index(['Host Since', 'Name', 'Neighbourhood ', 'Property Type'], dtype='object') \n",
            "\n",
            "Number of NaN values in 'Price' column: 274\n"
          ]
        }
      ],
      "source": [
        "import numpy as np # Import the numpy package into your workspace\n",
        "import pandas as pd  # Import the pandas package into your workspace\n",
        "df = pd.read_csv('/content/airbnb_hw.csv',low_memory=False)\n",
        "print(df.shape, '\\n') # List the dimensions of df\n",
        "print(df.dtypes, '\\n') # The types of the variables; `object` is a bad sign\n",
        "print(df.columns[1:5], '\\n') # First five column names\n",
        "\n",
        "# Clean the 'Price' variable\n",
        "df['Price'] = df['Price'].str.replace(',', '', regex=True)  # Remove commas\n",
        "df['Price'] = df['Price'].apply(pd.to_numeric, errors='coerce')  # Convert to floats and handle missing values\n",
        "df['Price'] = df['Price'].replace(' ',np.nan) # Notice the column replacement\n",
        "\n",
        "# Print the count\n",
        "print(\"Number of NaN values in 'Price' column:\", nan_count)\n",
        "\n"
      ]
    },
    {
      "cell_type": "markdown",
      "source": [
        "For cleaning the Price variable, I made sure to delete commas, turn the values into floats, and make sure blank values go into the nan count."
      ],
      "metadata": {
        "id": "wcyDL-wweb7j"
      }
    },
    {
      "cell_type": "code",
      "source": [
        "\n",
        "df = pd.read_csv('/content/sharks.csv',low_memory=False)\n",
        "print(df.shape, '\\n') # List the dimensions of df\n",
        "print(df.dtypes, '\\n') # The types of the variables; `object` is a bad sign\n",
        "print(df.columns[1:5], '\\n') # First five column names\n",
        "print(df['Type'].unique(), '\\n') # A Categorical Example\n",
        "df['Type'] = df['Type'].replace(' ',np.nan) # Notice the column replacement\n",
        "\n",
        "replacement_mapping = {\n",
        "    'Boating': 'Watercraft',\n",
        "    'Boatomg': 'Watercraft',\n",
        "    'Boat' : 'Watercraft',\n",
        "    'Unverified': 'Questionable',\n",
        "    'Under investigation' : 'Questionable',\n",
        "    'Unconfirmed' : 'Questionable',\n",
        "    }\n",
        "\n",
        "# Use the replace method to perform the replacement\n",
        "df['Type'] = df['Type'].replace(replacement_mapping)\n",
        "print(df['Type'].value_counts(), '\\n')\n",
        "\n",
        "nan_count = df['Type'].isna().sum()\n",
        "\n",
        "# Print the count\n",
        "print(\"Number of NaN values in 'Type' column:\", nan_count)\n"
      ],
      "metadata": {
        "colab": {
          "base_uri": "https://localhost:8080/"
        },
        "id": "bMQXfUAHcPKB",
        "outputId": "f36f9bf1-1966-479b-b79a-20cb656193bc"
      },
      "execution_count": null,
      "outputs": [
        {
          "output_type": "stream",
          "name": "stdout",
          "text": [
            "(6462, 257) \n",
            "\n",
            "index             int64\n",
            "Case Number      object\n",
            "Date             object\n",
            "Year            float64\n",
            "Type             object\n",
            "                 ...   \n",
            "Unnamed: 251    float64\n",
            "Unnamed: 252    float64\n",
            "Unnamed: 253    float64\n",
            "Unnamed: 254    float64\n",
            "Unnamed: 255    float64\n",
            "Length: 257, dtype: object \n",
            "\n",
            "Index(['Case Number', 'Date', 'Year', 'Type'], dtype='object') \n",
            "\n",
            "['Unprovoked' 'Provoked' 'Questionable' 'Watercraft' 'Unconfirmed'\n",
            " 'Unverified' 'Invalid' 'Under investigation' 'Boating' 'Sea Disaster' nan\n",
            " 'Boat' 'Boatomg'] \n",
            "\n",
            "Number of NaN values in 'Type' column: 5\n",
            "Unprovoked      4716\n",
            "Provoked         593\n",
            "Invalid          552\n",
            "Watercraft       344\n",
            "Sea Disaster     239\n",
            "Questionable      13\n",
            "Name: Type, dtype: int64 \n",
            "\n",
            "Number of NaN values in 'Type' column: 5\n"
          ]
        }
      ]
    },
    {
      "cell_type": "markdown",
      "source": [
        "I cleaned the sharks variable by replacing blank data with NaN and then combining some of the shark attack types together as they overlap in definition."
      ],
      "metadata": {
        "id": "nB4AQVDSukJ3"
      }
    },
    {
      "cell_type": "code",
      "source": [
        "df = pd.read_csv('/content/Pretrialdata2017.csv',low_memory=False)\n",
        "print(df.shape, '\\n') # List the dimensions of df\n",
        "print(df.dtypes, '\\n') # The types of the variables; `object` is a bad sign\n",
        "print(df['WhetherDefendantWasReleasedPretrial'].unique(), '\\n') # A Categorical Example\n",
        "df['WhetherDefendantWasReleasedPretrial'] = df['WhetherDefendantWasReleasedPretrial'].replace( 9 ,np.nan)\n",
        "print(df['WhetherDefendantWasReleasedPretrial'].value_counts(), '\\n')\n",
        "\n",
        "nan_count = df['WhetherDefendantWasReleasedPretrial'].isna().sum()\n",
        "\n",
        "# Print the count\n",
        "print(\"Number of NaN values in 'WhetherDefendantWasReleasedPretrial' column:\", nan_count)\n",
        "\n"
      ],
      "metadata": {
        "colab": {
          "base_uri": "https://localhost:8080/"
        },
        "id": "i14udomhpS1W",
        "outputId": "5334ab82-4175-4db4-835d-9b0eac33412f"
      },
      "execution_count": 12,
      "outputs": [
        {
          "output_type": "stream",
          "name": "stdout",
          "text": [
            "(22986, 709) \n",
            "\n",
            "InternalStudyID                                                 object\n",
            "REQ_REC#                                                        object\n",
            "Defendant_Sex                                                   object\n",
            "Defendant_Race                                                  object\n",
            "Defendant_BirthYear                                             object\n",
            "                                                                 ...  \n",
            "NewFelonySexualAssaultArrest_Disposition                        object\n",
            "Intertnalindicator_ReasonforExcludingFromFollowUpAnalysis        int64\n",
            "CriminalHistoryRecordsReturnedorCMSRecordsFoundforIndividual    object\n",
            "DispRecordFoundforChargesinOct2017Contact_Atleast1dispfound      int64\n",
            "CrimeCommission2021ReportClassificationofDefendants             object\n",
            "Length: 709, dtype: object \n",
            "\n",
            "[9 0 1] \n",
            "\n",
            "1.0    19154\n",
            "0.0     3801\n",
            "Name: WhetherDefendantWasReleasedPretrial, dtype: int64 \n",
            "\n",
            "Number of NaN values in 'WhetherDefendantWasReleasedPretrial' column: 31\n"
          ]
        }
      ]
    },
    {
      "cell_type": "markdown",
      "source": [
        "I cleaned the variable 'WhetherDefendantWasReleasedPretrial' by replacing any 9 with a NaN value because the codebook implies that these values are missing."
      ],
      "metadata": {
        "id": "3MBOVObztpzr"
      }
    },
    {
      "cell_type": "code",
      "source": [
        "df = pd.read_csv('/content/Pretrialdata2017.csv',low_memory=False)\n",
        "print(df.shape, '\\n') # List the dimensions of df\n",
        "print(df.dtypes, '\\n') # The types of the variables; `object` is a bad sign\n",
        "print(df['ImposedSentenceAllChargeInContactEvent'].describe())\n",
        "df['ImposedSentenceAllChargeInContactEvent'] = df['ImposedSentenceAllChargeInContactEvent'].apply(pd.to_numeric, errors='coerce')\n",
        "df['ImposedSentenceAllChargeInContactEvent'] = df['ImposedSentenceAllChargeInContactEvent'].replace(' ',np.nan) # Notice the column replacement\n",
        "print(df['ImposedSentenceAllChargeInContactEvent'].value_counts(), '\\n')\n",
        "\n",
        "print(df['SentenceTypeAllChargesAtConvictionInContactEvent'].unique(), '\\n') # A Categorical Example\n",
        "print(df['SentenceTypeAllChargesAtConvictionInContactEvent'].value_counts(), '\\n')\n",
        "\n",
        "df.loc[df['SentenceTypeAllChargesAtConvictionInContactEvent'] == 4, 'ImposedSentenceAllChargeInContactEvent'] = 0\n",
        "nan_count = df['ImposedSentenceAllChargeInContactEvent'].isna().sum()\n",
        "print(\"Number of NaN values in 'Type' column:\", nan_count)\n",
        "\n",
        "#all missing data is either a 4 or 9. If it is a 9, it is missing, while a 4 turns into 0.\n",
        "print(df['ImposedSentenceAllChargeInContactEvent'].value_counts(), '\\n')\n",
        "\n",
        "\n",
        "\n"
      ],
      "metadata": {
        "colab": {
          "base_uri": "https://localhost:8080/"
        },
        "id": "NWxnjD6zp_B7",
        "outputId": "62d4121c-c831-4bdd-808d-2f51fc311956"
      },
      "execution_count": 15,
      "outputs": [
        {
          "output_type": "stream",
          "name": "stdout",
          "text": [
            "(22986, 709) \n",
            "\n",
            "InternalStudyID                                                 object\n",
            "REQ_REC#                                                        object\n",
            "Defendant_Sex                                                   object\n",
            "Defendant_Race                                                  object\n",
            "Defendant_BirthYear                                             object\n",
            "                                                                 ...  \n",
            "NewFelonySexualAssaultArrest_Disposition                        object\n",
            "Intertnalindicator_ReasonforExcludingFromFollowUpAnalysis        int64\n",
            "CriminalHistoryRecordsReturnedorCMSRecordsFoundforIndividual    object\n",
            "DispRecordFoundforChargesinOct2017Contact_Atleast1dispfound      int64\n",
            "CrimeCommission2021ReportClassificationofDefendants             object\n",
            "Length: 709, dtype: object \n",
            "\n",
            "count     22986\n",
            "unique      484\n",
            "top            \n",
            "freq       9053\n",
            "Name: ImposedSentenceAllChargeInContactEvent, dtype: object\n",
            "0.000000     4953\n",
            "12.000000    1404\n",
            "0.985626     1051\n",
            "6.000000      809\n",
            "3.000000      787\n",
            "             ... \n",
            "49.971253       1\n",
            "57.034908       1\n",
            "79.926078       1\n",
            "42.164271       1\n",
            "1.657084        1\n",
            "Name: ImposedSentenceAllChargeInContactEvent, Length: 483, dtype: int64 \n",
            "\n",
            "[9 0 1 4 2] \n",
            "\n",
            "4    8779\n",
            "0    8720\n",
            "1    4299\n",
            "2     914\n",
            "9     274\n",
            "Name: SentenceTypeAllChargesAtConvictionInContactEvent, dtype: int64 \n",
            "\n",
            "Number of NaN values in 'Type' column: 274\n",
            "0.000000     13732\n",
            "12.000000     1404\n",
            "0.985626      1051\n",
            "6.000000       809\n",
            "3.000000       787\n",
            "             ...  \n",
            "49.971253        1\n",
            "57.034908        1\n",
            "79.926078        1\n",
            "42.164271        1\n",
            "1.657084         1\n",
            "Name: ImposedSentenceAllChargeInContactEvent, Length: 483, dtype: int64 \n",
            "\n"
          ]
        }
      ]
    },
    {
      "cell_type": "markdown",
      "source": [
        "To clean this data, I checked the relationship between imposed sentence and sentence type. The only missing values should be those that correlate with 9 on the senetence type variable. If they correlated with 4, there was no incarceration, so they turned to 0. I made sure to turn missing values into NaN and turn the values into floats. I then turned all values that had a 4 in sentence type equal to 0. The remaining 274 observations that were equal to 9 are the only missing values in the imposed sentence data.  "
      ],
      "metadata": {
        "id": "qFBbKEoKsXhG"
      }
    }
  ]
}